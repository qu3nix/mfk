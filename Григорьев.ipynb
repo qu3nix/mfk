{
  "nbformat": 4,
  "nbformat_minor": 0,
  "metadata": {
    "colab": {
      "provenance": [],
      "authorship_tag": "ABX9TyOAEV+1ceyVE0i0w7bO3c53",
      "include_colab_link": true
    },
    "kernelspec": {
      "name": "python3",
      "display_name": "Python 3"
    },
    "language_info": {
      "name": "python"
    }
  },
  "cells": [
    {
      "cell_type": "markdown",
      "metadata": {
        "id": "view-in-github",
        "colab_type": "text"
      },
      "source": [
        "<a href=\"https://colab.research.google.com/github/qu3nix/mfk/blob/main/%D0%93%D1%80%D0%B8%D0%B3%D0%BE%D1%80%D1%8C%D0%B5%D0%B2.ipynb\" target=\"_parent\"><img src=\"https://colab.research.google.com/assets/colab-badge.svg\" alt=\"Open In Colab\"/></a>"
      ]
    },
    {
      "cell_type": "code",
      "execution_count": 4,
      "metadata": {
        "id": "JgIdPd-gs5eV"
      },
      "outputs": [],
      "source": [
        "import pandas as pd\n",
        "import numpy as np\n",
        "import matplotlib.pyplot as plt\n",
        "import seaborn as sns\n",
        "%matplotlib inline\n",
        "import matplotlib as plt\n",
        "import matplotlib as mpl\n",
        "import matplotlib.cm as cm \n",
        "import matplotlib.pyplot as plt\n",
        "from matplotlib import pyplot\n",
        "from scipy import stats\n",
        "# импортируем датасет\n",
        "all_nydf = pd.read_csv(r'https://raw.githubusercontent.com/qu3nix/mfk/main/flights_NY.csv')\n",
        "\n"
      ]
    },
    {
      "cell_type": "code",
      "source": [
        "all_nydf.info()"
      ],
      "metadata": {
        "colab": {
          "base_uri": "https://localhost:8080/"
        },
        "id": "qIpqK7fsMRGF",
        "outputId": "63b6dbb8-66df-492a-f6c0-391a47b03c38"
      },
      "execution_count": 125,
      "outputs": [
        {
          "output_type": "stream",
          "name": "stdout",
          "text": [
            "<class 'pandas.core.frame.DataFrame'>\n",
            "RangeIndex: 336776 entries, 0 to 336775\n",
            "Data columns (total 14 columns):\n",
            " #   Column     Non-Null Count   Dtype  \n",
            "---  ------     --------------   -----  \n",
            " 0   year       336776 non-null  int64  \n",
            " 1   month      336776 non-null  int64  \n",
            " 2   day        336776 non-null  int64  \n",
            " 3   dep_time   328521 non-null  float64\n",
            " 4   dep_delay  328521 non-null  float64\n",
            " 5   arr_time   328063 non-null  float64\n",
            " 6   arr_delay  327346 non-null  float64\n",
            " 7   carrier    336776 non-null  object \n",
            " 8   tailnum    334264 non-null  object \n",
            " 9   flight     336776 non-null  int64  \n",
            " 10  origin     336776 non-null  object \n",
            " 11  dest       336776 non-null  object \n",
            " 12  air_time   327346 non-null  float64\n",
            " 13  distance   336776 non-null  int64  \n",
            "dtypes: float64(5), int64(5), object(4)\n",
            "memory usage: 36.0+ MB\n"
          ]
        }
      ]
    },
    {
      "cell_type": "code",
      "source": [
        "all_nydf.isnull().sum()"
      ],
      "metadata": {
        "colab": {
          "base_uri": "https://localhost:8080/"
        },
        "id": "1--6-MOhyQHF",
        "outputId": "04103ec4-903f-4fbe-c8e4-cac2267d8e0b"
      },
      "execution_count": 126,
      "outputs": [
        {
          "output_type": "execute_result",
          "data": {
            "text/plain": [
              "year            0\n",
              "month           0\n",
              "day             0\n",
              "dep_time     8255\n",
              "dep_delay    8255\n",
              "arr_time     8713\n",
              "arr_delay    9430\n",
              "carrier         0\n",
              "tailnum      2512\n",
              "flight          0\n",
              "origin          0\n",
              "dest            0\n",
              "air_time     9430\n",
              "distance        0\n",
              "dtype: int64"
            ]
          },
          "metadata": {},
          "execution_count": 126
        }
      ]
    },
    {
      "cell_type": "markdown",
      "source": [
        "Указано количество нулевых значений в каждом столбце; таким образом, информация отсутствует в столбцах dep_time, dep_delay, arr_time, arr_delay, tailnum и air_time. Учитывая частоту отсутствия значений в в столбцах dep_time и arr_time, можно предположить, что это отмененные рейсы. Касательно \"максимально отсутствующих\" air_time и arr_delay, можно предположить, что их значения ошибочно не вошли в данные (исключая отмененные рейсы)."
      ],
      "metadata": {
        "id": "efdoQNLByeCu"
      }
    },
    {
      "cell_type": "code",
      "source": [
        "nydf = all_nydf.dropna()\n",
        "nydf.info()"
      ],
      "metadata": {
        "colab": {
          "base_uri": "https://localhost:8080/"
        },
        "id": "jUFX5vMg15JC",
        "outputId": "895013e0-5690-4194-bce9-da22b68dc8ae"
      },
      "execution_count": 6,
      "outputs": [
        {
          "output_type": "stream",
          "name": "stdout",
          "text": [
            "<class 'pandas.core.frame.DataFrame'>\n",
            "Int64Index: 327346 entries, 0 to 336769\n",
            "Data columns (total 14 columns):\n",
            " #   Column     Non-Null Count   Dtype  \n",
            "---  ------     --------------   -----  \n",
            " 0   year       327346 non-null  int64  \n",
            " 1   month      327346 non-null  int64  \n",
            " 2   day        327346 non-null  int64  \n",
            " 3   dep_time   327346 non-null  float64\n",
            " 4   dep_delay  327346 non-null  float64\n",
            " 5   arr_time   327346 non-null  float64\n",
            " 6   arr_delay  327346 non-null  float64\n",
            " 7   carrier    327346 non-null  object \n",
            " 8   tailnum    327346 non-null  object \n",
            " 9   flight     327346 non-null  int64  \n",
            " 10  origin     327346 non-null  object \n",
            " 11  dest       327346 non-null  object \n",
            " 12  air_time   327346 non-null  float64\n",
            " 13  distance   327346 non-null  int64  \n",
            "dtypes: float64(5), int64(5), object(4)\n",
            "memory usage: 37.5+ MB\n"
          ]
        }
      ]
    },
    {
      "cell_type": "markdown",
      "source": [
        "dropna() попросту удаляет все строки, имеющие в любом столбце значение NA. В новом датасете nydf 327346 строки вместо 336776 из оригинального."
      ],
      "metadata": {
        "id": "FJIhK1kq2Awr"
      }
    },
    {
      "cell_type": "code",
      "source": [
        "print('Среднее значение =', nydf['dep_delay'].mean())\n",
        "print('Стандатрное отклонение =', nydf['dep_delay'].std())\n",
        "print('Медиана =', nydf['dep_delay'].median())\n",
        "print('Минимальное значиние =',nydf['dep_delay'].min())\n",
        "print('Максимальное значение =',nydf['dep_delay'].max())"
      ],
      "metadata": {
        "colab": {
          "base_uri": "https://localhost:8080/"
        },
        "id": "CPqJlBqq1xEd",
        "outputId": "7fbfbeea-8546-447b-8c96-488e6994d8cc"
      },
      "execution_count": 128,
      "outputs": [
        {
          "output_type": "stream",
          "name": "stdout",
          "text": [
            "Среднее значение = 12.555155706805643\n",
            "Стандатрное отклонение = 40.06568758558352\n",
            "Медиана = -2.0\n",
            "Минимальное значиние = -43.0\n",
            "Максимальное значение = 1301.0\n"
          ]
        }
      ]
    },
    {
      "cell_type": "markdown",
      "source": [
        "\n",
        "В выходе кода показана информация вышеуказанного метода, в котором mean - медиана, std - стандартное отклонение; min, max значения. Столбец dep_delay."
      ],
      "metadata": {
        "id": "66-idFYTxoMw"
      }
    },
    {
      "cell_type": "code",
      "source": [
        "print('Среднее значение =', nydf['arr_delay'].mean())\n",
        "print('Стандатрное отклонение =', nydf['arr_delay'].std())\n",
        "print('Медиана =', nydf['arr_delay'].median())\n",
        "print('Минимальное значиние =',nydf['arr_delay'].min())\n",
        "print('Максимальное значение =',nydf['arr_delay'].max())"
      ],
      "metadata": {
        "colab": {
          "base_uri": "https://localhost:8080/"
        },
        "id": "o0JCSGfEyyiH",
        "outputId": "e0ac4c17-cc53-4944-9cf0-cb39c838ce30"
      },
      "execution_count": 129,
      "outputs": [
        {
          "output_type": "stream",
          "name": "stdout",
          "text": [
            "Среднее значение = 6.89537675731489\n",
            "Стандатрное отклонение = 44.63329169019399\n",
            "Медиана = -5.0\n",
            "Минимальное значиние = -86.0\n",
            "Максимальное значение = 1272.0\n"
          ]
        }
      ]
    },
    {
      "cell_type": "markdown",
      "source": [
        "То же самое для столбца arr_delay\n"
      ],
      "metadata": {
        "id": "ppB_zH30y7FQ"
      }
    },
    {
      "cell_type": "markdown",
      "source": [
        "Группируем по столбцу 'carrier' и вычилсяем среднее по столбцу 'dep_delay':"
      ],
      "metadata": {
        "id": "VIs6uYMm5tFV"
      }
    },
    {
      "cell_type": "code",
      "source": [
        "group = nydf.groupby(['carrier'])['dep_delay'].mean()\n",
        "group.sort_values()"
      ],
      "metadata": {
        "colab": {
          "base_uri": "https://localhost:8080/"
        },
        "id": "JYprGub7HUfO",
        "outputId": "1ec2efc6-882f-4b9a-a851-4d9cb103a964"
      },
      "execution_count": 67,
      "outputs": [
        {
          "output_type": "execute_result",
          "data": {
            "text/plain": [
              "carrier\n",
              "US     3.744693\n",
              "HA     4.900585\n",
              "AS     5.830748\n",
              "AA     8.569130\n",
              "DL     9.223950\n",
              "MQ    10.445381\n",
              "UA    12.016908\n",
              "OO    12.586207\n",
              "VX    12.756646\n",
              "B6    12.967548\n",
              "9E    16.439574\n",
              "WN    17.661657\n",
              "FL    18.605984\n",
              "YV    18.898897\n",
              "EV    19.838929\n",
              "F9    20.201175\n",
              "Name: dep_delay, dtype: float64"
            ]
          },
          "metadata": {},
          "execution_count": 67
        }
      ]
    },
    {
      "cell_type": "code",
      "source": [
        "plt.plot(group.sort_values())"
      ],
      "metadata": {
        "colab": {
          "base_uri": "https://localhost:8080/",
          "height": 447
        },
        "id": "zUovF3lNcMPX",
        "outputId": "daa30037-38d8-431c-91f2-f481dbf48292"
      },
      "execution_count": 71,
      "outputs": [
        {
          "output_type": "execute_result",
          "data": {
            "text/plain": [
              "[<matplotlib.lines.Line2D at 0x7f68e5472260>]"
            ]
          },
          "metadata": {},
          "execution_count": 71
        },
        {
          "output_type": "display_data",
          "data": {
            "text/plain": [
              "<Figure size 640x480 with 1 Axes>"
            ],
            "image/png": "[encoded data removed]"
          },
          "metadata": {}
        }
      ]
    },
    {
      "cell_type": "markdown",
      "source": [
        "По методу quantile() вычисляем то же самое:"
      ],
      "metadata": {
        "id": "s6-IvnU8ba8m"
      }
    },
    {
      "cell_type": "code",
      "source": [
        "\n",
        "lower_bound = nydf['dep_delay'].quantile(q = 0.025)\n",
        "upper_bound = nydf['dep_delay'].quantile(q = 0.975)\n",
        "group95 = nydf[(nydf['dep_delay'] > lower_bound) & (nydf['dep_delay'] < upper_bound)].groupby(['carrier'])['dep_delay'].mean()\n",
        "group95.sort_values()"
      ],
      "metadata": {
        "colab": {
          "base_uri": "https://localhost:8080/"
        },
        "id": "ql3jMun6XH73",
        "outputId": "d514fa69-661f-441a-c765-a2e9eeac08bc"
      },
      "execution_count": 68,
      "outputs": [
        {
          "output_type": "execute_result",
          "data": {
            "text/plain": [
              "carrier\n",
              "HA     0.635179\n",
              "US     2.419353\n",
              "AS     4.600985\n",
              "DL     5.258947\n",
              "AA     5.512760\n",
              "VX     6.900972\n",
              "OO     7.095238\n",
              "MQ     8.402592\n",
              "UA     8.505072\n",
              "B6     9.507438\n",
              "9E    10.991283\n",
              "WN    11.395681\n",
              "FL    11.684672\n",
              "F9    11.936275\n",
              "YV    13.876623\n",
              "EV    13.943504\n",
              "Name: dep_delay, dtype: float64"
            ]
          },
          "metadata": {},
          "execution_count": 68
        }
      ]
    },
    {
      "cell_type": "code",
      "source": [
        "plt.plot(group95.sort_values())"
      ],
      "metadata": {
        "colab": {
          "base_uri": "https://localhost:8080/",
          "height": 447
        },
        "id": "T0TLVekNb71_",
        "outputId": "6b76b096-f5b1-4388-b200-3af5eebfcd98"
      },
      "execution_count": 70,
      "outputs": [
        {
          "output_type": "execute_result",
          "data": {
            "text/plain": [
              "[<matplotlib.lines.Line2D at 0x7f68e544ce50>]"
            ]
          },
          "metadata": {},
          "execution_count": 70
        },
        {
          "output_type": "display_data",
          "data": {
            "text/plain": [
              "<Figure size 640x480 with 1 Axes>"
            ],
            "image/png": "[encoded data removed]"
          },
          "metadata": {}
        }
      ]
    },
    {
      "cell_type": "code",
      "source": [
        "# для облегчения дальнейшенго написания\n",
        "AAdelay = nydf[nydf['carrier'] == 'AA']['dep_delay']\n",
        "DLdelay = nydf[nydf['carrier'] == 'DL']['dep_delay']\n",
        "print('Среднее American Airlines =',AAdelay.mean())\n",
        "print('Среднее Delta Airlines =', DLdelay.mean())"
      ],
      "metadata": {
        "colab": {
          "base_uri": "https://localhost:8080/"
        },
        "id": "Q0Do4-90F4Kc",
        "outputId": "b80b76e5-b736-4a5c-8e6f-551461ab7004"
      },
      "execution_count": 10,
      "outputs": [
        {
          "output_type": "stream",
          "name": "stdout",
          "text": [
            "Среднее American Airlines = 8.569130121764172\n",
            "Среднее Delta Airlines = 9.223949809056192\n"
          ]
        }
      ]
    },
    {
      "cell_type": "markdown",
      "source": [
        "Исходя из мысли о том, что у нас две большие независимые выборки, можно проверить гипотезу о равенстве двух средних на основе Z - статистики, то бишь нам известны дисперсии, и их выборочные средние имеют нормальное распределение. Переменная Z имеет нормальное распределение, благодаря чему находится значение p. "
      ],
      "metadata": {
        "id": "5G4pKzsmS2bK"
      }
    },
    {
      "cell_type": "code",
      "source": [
        "# объединенная станд ошибка\n",
        "pse = np.sqrt(((AAdelay.std() ** 2) / AAdelay.count()) + ((DLdelay.std() ** 2) / DLdelay.count()))\n",
        "p = stats.norm.cdf(((AAdelay.mean() - DLdelay.mean()) / pse))\n",
        "print ('Z - статистика = ', (AAdelay.mean() - DLdelay.mean()) / pse)\n",
        "print ('Значение p = ', p)\n",
        "print ('Уровень значимости = ', 1 - p)"
      ],
      "metadata": {
        "colab": {
          "base_uri": "https://localhost:8080/"
        },
        "id": "iKWECOptQ8Fp",
        "outputId": "d86f6e7f-7a41-4929-9eb7-bb9df97154ca"
      },
      "execution_count": 15,
      "outputs": [
        {
          "output_type": "stream",
          "name": "stdout",
          "text": [
            "Z - статистика =  -2.3644084232769744\n",
            "Значение p =  0.00902944571770893\n",
            "Уровень значимости =  0.9909705542822911\n"
          ]
        }
      ]
    },
    {
      "cell_type": "markdown",
      "source": [
        "Таким образом, гипотеза о равенстве двух средних откидывается на уровне значимости alpha = 0.9909705542822911."
      ],
      "metadata": {
        "id": "wEmyjlZzT0Y-"
      }
    },
    {
      "cell_type": "code",
      "source": [
        "origins = nydf.groupby('origin')['dep_delay'].mean()\n",
        "origins.sort_values()"
      ],
      "metadata": {
        "colab": {
          "base_uri": "https://localhost:8080/"
        },
        "id": "ZKBDKMhHcYbR",
        "outputId": "6d13032d-294c-4606-e2d8-90eb5bf05518"
      },
      "execution_count": 74,
      "outputs": [
        {
          "output_type": "execute_result",
          "data": {
            "text/plain": [
              "origin\n",
              "LGA    10.286583\n",
              "JFK    12.023607\n",
              "EWR    15.009110\n",
              "Name: dep_delay, dtype: float64"
            ]
          },
          "metadata": {},
          "execution_count": 74
        }
      ]
    },
    {
      "cell_type": "markdown",
      "source": [
        "Попытаемся использовать Z - статистику и тут:"
      ],
      "metadata": {
        "id": "C_PJxR3meQjX"
      }
    },
    {
      "cell_type": "code",
      "source": [
        "def pse(a, b):\n",
        "  return np.sqrt(((a.std() ** 2) / a.count()) + ((b.std() ** 2) / b.count()))\n",
        "def p(a, b):\n",
        "  return stats.norm.cdf(((a.mean() - b.mean()) / pse(a, b)))\n",
        "LGA = nydf[nydf['origin'] == 'LGA']['dep_delay']\n",
        "JFK = nydf[nydf['origin'] == 'JFK']['dep_delay']\n",
        "EWR = nydf[nydf['origin'] == 'EWR']['dep_delay']\n",
        "print(p(LGA, JFK), p(LGA, EWR), p(JFK, EWR))"
      ],
      "metadata": {
        "colab": {
          "base_uri": "https://localhost:8080/"
        },
        "id": "5-ZpQ1bidCrS",
        "outputId": "fb1bbb0c-6efe-4eca-ea71-48bbb933f7c8"
      },
      "execution_count": 80,
      "outputs": [
        {
          "output_type": "stream",
          "name": "stdout",
          "text": [
            "2.7249934717419763e-24 9.402508860695532e-163 9.225544099518024e-71\n"
          ]
        }
      ]
    },
    {
      "cell_type": "markdown",
      "source": [
        "Видим, что статистики абсолютно статистически значимы"
      ],
      "metadata": {
        "id": "gsAsPhg4ehan"
      }
    }
  ]
}